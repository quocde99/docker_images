{
 "cells": [
  {
   "cell_type": "code",
   "execution_count": 1,
   "id": "9ff38eb2-da98-457e-ae17-0311cf952bf3",
   "metadata": {},
   "outputs": [],
   "source": [
    "import io\n",
    "from pyspark.sql import SparkSession"
   ]
  },
  {
   "cell_type": "code",
   "execution_count": 2,
   "id": "6b47d719-9d67-4a6d-ba31-27d512fe9891",
   "metadata": {},
   "outputs": [
    {
     "name": "stderr",
     "output_type": "stream",
     "text": [
      "Setting default log level to \"WARN\".\n",
      "To adjust logging level use sc.setLogLevel(newLevel). For SparkR, use setLogLevel(newLevel).\n",
      "24/12/15 08:34:41 WARN NativeCodeLoader: Unable to load native-hadoop library for your platform... using builtin-java classes where applicable\n"
     ]
    }
   ],
   "source": [
    "spark = (SparkSession.builder.appName(\"Spark app\").master(\"local[*]\").getOrCreate())"
   ]
  },
  {
   "cell_type": "code",
   "execution_count": 3,
   "id": "94005f30-b83d-4168-87f4-c33505ba1ac2",
   "metadata": {},
   "outputs": [
    {
     "data": {
      "text/html": [
       "\n",
       "            <div>\n",
       "                <p><b>SparkSession - in-memory</b></p>\n",
       "                \n",
       "        <div>\n",
       "            <p><b>SparkContext</b></p>\n",
       "\n",
       "            <p><a href=\"http://288687a94a62:4040\">Spark UI</a></p>\n",
       "\n",
       "            <dl>\n",
       "              <dt>Version</dt>\n",
       "                <dd><code>v3.3.0</code></dd>\n",
       "              <dt>Master</dt>\n",
       "                <dd><code>local[*]</code></dd>\n",
       "              <dt>AppName</dt>\n",
       "                <dd><code>Spark app</code></dd>\n",
       "            </dl>\n",
       "        </div>\n",
       "        \n",
       "            </div>\n",
       "        "
      ],
      "text/plain": [
       "<pyspark.sql.session.SparkSession at 0xffffa427f7c0>"
      ]
     },
     "execution_count": 3,
     "metadata": {},
     "output_type": "execute_result"
    }
   ],
   "source": [
    "spark"
   ]
  },
  {
   "cell_type": "code",
   "execution_count": 4,
   "id": "aeab1ba0-da1b-414d-91a5-4ca1858dfff3",
   "metadata": {},
   "outputs": [],
   "source": [
    "df = spark.read.format(\"text\").load(\"./data/input.txt\")"
   ]
  },
  {
   "cell_type": "code",
   "execution_count": 5,
   "id": "fe9f5bcb-f6d5-4bac-9916-be38876d0750",
   "metadata": {},
   "outputs": [],
   "source": [
    "from pyspark.sql.functions import lit, count, explode , col, split"
   ]
  },
  {
   "cell_type": "code",
   "execution_count": 6,
   "id": "2cca5075-1a89-4976-9cac-9ad4a94238d6",
   "metadata": {},
   "outputs": [],
   "source": [
    "df_transform = df.withColumn(\"words\",split(\"value\",\" \"))\\\n",
    "                .withColumn(\"word\",explode(\"words\"))\\\n",
    "                .drop(\"words\",\"value\")\\\n",
    "                .groupBy(\"word\").agg(count(lit(1)))"
   ]
  },
  {
   "cell_type": "code",
   "execution_count": 7,
   "id": "e9dbd1a8-6a9a-4934-8ad2-e5a6c805d5e9",
   "metadata": {},
   "outputs": [
    {
     "name": "stdout",
     "output_type": "stream",
     "text": [
      "+----+--------+\n",
      "|word|count(1)|\n",
      "+----+--------+\n",
      "|   d|       1|\n",
      "|   c|       2|\n",
      "|   b|       2|\n",
      "|   a|       1|\n",
      "|    |       1|\n",
      "| 123|       1|\n",
      "+----+--------+\n",
      "\n"
     ]
    }
   ],
   "source": [
    "df_transform.show(10)"
   ]
  },
  {
   "cell_type": "code",
   "execution_count": 27,
   "id": "bd72d5f7-3451-47dc-9cb7-c0524f73e123",
   "metadata": {},
   "outputs": [
    {
     "name": "stderr",
     "output_type": "stream",
     "text": [
      "24/12/15 08:16:58 WARN TextSocketSourceProvider: The socket source should not be used for production applications! It does not support recovery.\n"
     ]
    }
   ],
   "source": [
    "## demo with socket \n",
    "df_raw = spark.readStream.format(\"socket\").option(\"host\",\"localhost\").option(\"port\",9999).load()"
   ]
  },
  {
   "cell_type": "code",
   "execution_count": 29,
   "id": "bad613fe-f2e6-4237-8956-c5c9f90a9e71",
   "metadata": {},
   "outputs": [
    {
     "data": {
      "text/html": [
       "\n",
       "            <div>\n",
       "                <p><b>SparkSession - in-memory</b></p>\n",
       "                \n",
       "        <div>\n",
       "            <p><b>SparkContext</b></p>\n",
       "\n",
       "            <p><a href=\"http://175fc84e0c28:4041\">Spark UI</a></p>\n",
       "\n",
       "            <dl>\n",
       "              <dt>Version</dt>\n",
       "                <dd><code>v3.3.0</code></dd>\n",
       "              <dt>Master</dt>\n",
       "                <dd><code>local[*]</code></dd>\n",
       "              <dt>AppName</dt>\n",
       "                <dd><code>Spark app</code></dd>\n",
       "            </dl>\n",
       "        </div>\n",
       "        \n",
       "            </div>\n",
       "        "
      ],
      "text/plain": [
       "<pyspark.sql.session.SparkSession at 0xffff80415960>"
      ]
     },
     "execution_count": 29,
     "metadata": {},
     "output_type": "execute_result"
    }
   ],
   "source": [
    "spark"
   ]
  },
  {
   "cell_type": "code",
   "execution_count": 9,
   "id": "3cde1dfc-2fd7-41a9-84d2-0b1a06b2e058",
   "metadata": {},
   "outputs": [
    {
     "data": {
      "text/plain": [
       "1"
      ]
     },
     "execution_count": 9,
     "metadata": {},
     "output_type": "execute_result"
    }
   ],
   "source": [
    "df_transform.rdd.getNumPartitions()"
   ]
  },
  {
   "cell_type": "code",
   "execution_count": null,
   "id": "8490b112-68d0-4613-baa8-dd715ec1f63e",
   "metadata": {},
   "outputs": [],
   "source": []
  }
 ],
 "metadata": {
  "kernelspec": {
   "display_name": "Python 3 (ipykernel)",
   "language": "python",
   "name": "python3"
  },
  "language_info": {
   "codemirror_mode": {
    "name": "ipython",
    "version": 3
   },
   "file_extension": ".py",
   "mimetype": "text/x-python",
   "name": "python",
   "nbconvert_exporter": "python",
   "pygments_lexer": "ipython3",
   "version": "3.10.16"
  }
 },
 "nbformat": 4,
 "nbformat_minor": 5
}
